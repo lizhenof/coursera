{
 "cells": [
  {
   "cell_type": "markdown",
   "id": "2a5d764e",
   "metadata": {},
   "source": [
    "# Data Science Tools and Ecosystem"
   ]
  },
  {
   "cell_type": "markdown",
   "id": "b68a8afb",
   "metadata": {},
   "source": [
    "In this notebook, Data Science Tools and Ecosystem are summarized."
   ]
  },
  {
   "cell_type": "markdown",
   "id": "62870c74",
   "metadata": {},
   "source": [
    "**Objectives:**"
   ]
  },
  {
   "cell_type": "markdown",
   "id": "5a1309ed",
   "metadata": {},
   "source": [
    "* List popular languages for Data Science\n",
    "* Libraries, APIs, Datasets and Models\n",
    "* Jupiter Notebooks and JupiterLab\n",
    "* RStudio & GitHub"
   ]
  },
  {
   "cell_type": "markdown",
   "id": "0b5ee718",
   "metadata": {},
   "source": [
    "Some of the popular languages that Data Scientists use are:"
   ]
  },
  {
   "cell_type": "markdown",
   "id": "61cb5293",
   "metadata": {},
   "source": [
    "1. Python\n",
    "2. R\n",
    "3. SQL\n",
    "4. C++"
   ]
  },
  {
   "cell_type": "markdown",
   "id": "cfb821b4",
   "metadata": {},
   "source": [
    "Some of the commonly used libraries used by Data Scientists include:"
   ]
  },
  {
   "cell_type": "markdown",
   "id": "248e096e",
   "metadata": {},
   "source": [
    "    1. Pandas\n",
    "    2. NumPy\n",
    "    3. SciPy\n",
    "    4. Matplotlib"
   ]
  },
  {
   "cell_type": "markdown",
   "id": "1c0722ad",
   "metadata": {},
   "source": [
    "|Data Science Tools|\n",
    "-----\n",
    "|RStudio|\n",
    "|Jupiter Notebook|\n",
    "|VS Studio|"
   ]
  },
  {
   "cell_type": "markdown",
   "id": "b35c89bd",
   "metadata": {},
   "source": [
    "### Below are a few examples of evaluating arithmetic expressions in Python"
   ]
  },
  {
   "cell_type": "code",
   "execution_count": 1,
   "id": "4a05ee08",
   "metadata": {},
   "outputs": [],
   "source": [
    "# This a simple arithmetic expression to mutiply then add integers"
   ]
  },
  {
   "cell_type": "code",
   "execution_count": 2,
   "id": "fa5ba6ec",
   "metadata": {},
   "outputs": [
    {
     "data": {
      "text/plain": [
       "17"
      ]
     },
     "execution_count": 2,
     "metadata": {},
     "output_type": "execute_result"
    }
   ],
   "source": [
    "(3*4)+5"
   ]
  },
  {
   "cell_type": "code",
   "execution_count": 3,
   "id": "c4e825d5",
   "metadata": {},
   "outputs": [],
   "source": [
    " # This will convert 200 minutes to hours by diving by 60"
   ]
  },
  {
   "cell_type": "code",
   "execution_count": 4,
   "id": "6587ebe5",
   "metadata": {},
   "outputs": [
    {
     "data": {
      "text/plain": [
       "3.3333333333333335"
      ]
     },
     "execution_count": 4,
     "metadata": {},
     "output_type": "execute_result"
    }
   ],
   "source": [
    "200 / 60"
   ]
  },
  {
   "cell_type": "markdown",
   "id": "dafc3b45",
   "metadata": {},
   "source": [
    "## Author"
   ]
  },
  {
   "cell_type": "markdown",
   "id": "6c61c1db",
   "metadata": {},
   "source": [
    "Lizaveta Chekanouskaya"
   ]
  },
  {
   "cell_type": "code",
   "execution_count": null,
   "id": "d3543afc",
   "metadata": {},
   "outputs": [],
   "source": []
  }
 ],
 "metadata": {
  "kernelspec": {
   "display_name": "Python 3 (ipykernel)",
   "language": "python",
   "name": "python3"
  },
  "language_info": {
   "codemirror_mode": {
    "name": "ipython",
    "version": 3
   },
   "file_extension": ".py",
   "mimetype": "text/x-python",
   "name": "python",
   "nbconvert_exporter": "python",
   "pygments_lexer": "ipython3",
   "version": "3.10.9"
  }
 },
 "nbformat": 4,
 "nbformat_minor": 5
}
